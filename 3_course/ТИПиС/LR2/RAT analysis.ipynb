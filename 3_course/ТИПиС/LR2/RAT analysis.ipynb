{
 "cells": [
  {
   "cell_type": "code",
   "execution_count": null,
   "metadata": {},
   "outputs": [],
   "source": [
    "import matplotlib.pyplot as plt\n",
    "import numpy as np\n",
    "import pandas as pd\n",
    "%matplotlib inline\n",
    "import networkx as nx"
   ]
  },
  {
   "cell_type": "markdown",
   "metadata": {},
   "source": [
    "Загружаем данные по тройкам. Данные хранятся в формате .xlsx, для работы с ними используем модуль pandas. **Pandas** (Python Data Analysis Library) — библиотека языка Python для [удобных] обработки и анализа данных. Загрузка данных в **pandas** происходит в специальный объект типа **DataFrame**:"
   ]
  },
  {
   "cell_type": "code",
   "execution_count": null,
   "metadata": {},
   "outputs": [],
   "source": [
    "dt=pd.read_excel('eng_rat.xlsx') # for rat test with words in G\n",
    "print(dt)"
   ]
  },
  {
   "cell_type": "markdown",
   "metadata": {},
   "source": [
    "Как видно, данные представляют из себя таблицу, где строка — объект, столбец — признак. Для экономии места можно выводить заданное количество первых строк объекта при помощи метода head():"
   ]
  },
  {
   "cell_type": "code",
   "execution_count": null,
   "metadata": {},
   "outputs": [],
   "source": [
    "dt.head(10)"
   ]
  },
  {
   "cell_type": "markdown",
   "metadata": {},
   "source": [
    "По данным можно индексироваться при помощи номеров строк/столбцов или названий признаков:"
   ]
  },
  {
   "cell_type": "code",
   "execution_count": null,
   "metadata": {},
   "outputs": [],
   "source": [
    "dt[2:5]"
   ]
  },
  {
   "cell_type": "code",
   "execution_count": null,
   "metadata": {},
   "outputs": [],
   "source": [
    "dt.iloc[1:5, 0:4]"
   ]
  },
  {
   "cell_type": "code",
   "execution_count": null,
   "metadata": {},
   "outputs": [],
   "source": [
    "dt[['Word1', 'Word2', 'Word3','Answer','15s_acc']].head()"
   ]
  },
  {
   "cell_type": "markdown",
   "metadata": {},
   "source": [
    "Постмотрим на распределение числа верно ответивших на тест за 15 секунд:"
   ]
  },
  {
   "cell_type": "code",
   "execution_count": null,
   "metadata": {},
   "outputs": [],
   "source": [
    "dt['15s_acc'].hist(bins = 30)\n",
    "plt.xlabel(' accuracy 15 sec', fontsize=14)"
   ]
  },
  {
   "cell_type": "markdown",
   "metadata": {},
   "source": [
    "И распределение времен ответа:"
   ]
  },
  {
   "cell_type": "code",
   "execution_count": null,
   "metadata": {},
   "outputs": [],
   "source": [
    "dt['15s_st'].hist(bins = 30)\n",
    "plt.xlabel(' accuracy 15 sec', fontsize=14)"
   ]
  },
  {
   "cell_type": "markdown",
   "metadata": {},
   "source": [
    "Есть ли корреляция между точностью решения задачи и временем?"
   ]
  },
  {
   "cell_type": "code",
   "execution_count": null,
   "metadata": {},
   "outputs": [],
   "source": [
    "plt.scatter(dt['15s_acc'],dt['15s_st'])\n",
    "plt.xlabel(' accuracy 15 sec', fontsize=14)\n",
    "plt.ylabel(' answer time', fontsize=14)"
   ]
  },
  {
   "cell_type": "markdown",
   "metadata": {},
   "source": [
    "Определим сложность теста по проценту решивших тест верно:"
   ]
  },
  {
   "cell_type": "code",
   "execution_count": null,
   "metadata": {},
   "outputs": [],
   "source": [
    "y=[]\n",
    "for row in dt.itertuples(): # Iterate over DataFrame\n",
    "    acc=row._9\n",
    "    if(acc<=32.0): y.append(0)\n",
    "    else: \n",
    "        if(acc<=64.0): y.append(1)\n",
    "        else: y.append(2)\n",
    "dt['Comp']=y \n",
    "\n",
    "dt.head()"
   ]
  },
  {
   "cell_type": "markdown",
   "metadata": {},
   "source": [
    "Теперь можно посмотреть статистику тестов внутри одного класса сложности: "
   ]
  },
  {
   "cell_type": "code",
   "execution_count": null,
   "metadata": {},
   "outputs": [],
   "source": [
    "acc,err_acc=[],[]\n",
    "mst,err_st=[],[]\n",
    "for c in [0,1,2]:\n",
    "    t=dt[(dt['Comp']==c)]['15s_acc'].mean()\n",
    "    st=dt[(dt['Comp']==c)]['15s_acc'].std()\n",
    "    acc.append(t)\n",
    "    err_acc.append(st)\n",
    "    t=dt[(dt['Comp']==c)]['15s_st'].mean()\n",
    "    st=dt[(dt['Comp']==c)]['15s_st'].std()\n",
    "    mst.append(t)\n",
    "    err_st.append(st)"
   ]
  },
  {
   "cell_type": "code",
   "execution_count": null,
   "metadata": {},
   "outputs": [],
   "source": [
    "fig, ax = plt.subplots(nrows=1, sharey=False,ncols=2, figsize=(12, 5))\n",
    "x_pos = np.arange(3)\n",
    "\n",
    "ax[0].bar(x_pos, acc, yerr=err_acc, align='center', alpha=0.5, ecolor='black', capsize=10)\n",
    "ax[0].set_xlabel('complexity', fontsize=14)\n",
    "ax[0].set_ylabel('accuracy', fontsize=14)\n",
    "\n",
    "ax[1].bar(x_pos, mst, yerr=err_st, align='center', alpha=0.5, ecolor='black', capsize=10)\n",
    "ax[1].set_xlabel('complexity', fontsize=14)\n",
    "ax[1].set_ylabel('answer time', fontsize=14)"
   ]
  },
  {
   "cell_type": "markdown",
   "metadata": {},
   "source": [
    "# Топологические свойства RAT в сети"
   ]
  },
  {
   "cell_type": "markdown",
   "metadata": {},
   "source": [
    "Загружаем сеть через dataframe и выводим основные характеристики сети:"
   ]
  },
  {
   "cell_type": "code",
   "execution_count": 1,
   "metadata": {},
   "outputs": [],
   "source": [
    "net=pd.read_excel('assoc_eng2.xlsx')\n",
    "G0=nx.from_pandas_dataframe(net,'source', 'target', edge_attr=True, create_using=nx.DiGraph())\n",
    "print('Nodes:',G0.number_of_nodes())\n",
    "print('Edges:',G0.number_of_edges())\n",
    "print('Density:',nx.density(G0))\n",
    "print('Transitivity', nx.transitivity(G0))"
   ]
  },
  {
   "cell_type": "markdown",
   "metadata": {},
   "source": [
    "Мы в первую очередь будем интересоваться путями между словами в RAT, поэтому начнем с проверки на связность:"
   ]
  },
  {
   "cell_type": "code",
   "execution_count": null,
   "metadata": {},
   "outputs": [],
   "source": [
    "print(nx.is_strongly_connected(G0))\n",
    "print(len(max(nx.strongly_connected_components(G0), key=len)))"
   ]
  },
  {
   "cell_type": "markdown",
   "metadata": {},
   "source": [
    "В отличие от сети ca-netscience сеть ассоциаций направленна, и для существования путей и алгоритмов распространения активации такое свойство сети оказывается ключевым. Для сравнения посмотрим на ненаправленную сеть, полученнуюи из направленной:"
   ]
  },
  {
   "cell_type": "code",
   "execution_count": null,
   "metadata": {},
   "outputs": [],
   "source": [
    "H=G0.to_undirected()\n",
    "print('Nodes:',H.number_of_nodes())\n",
    "print('Edges:',H.number_of_edges())\n",
    "print('Density:',nx.density(H))\n",
    "print('Transitivity', nx.transitivity(H))"
   ]
  },
  {
   "cell_type": "markdown",
   "metadata": {},
   "source": [
    "Почему ребер в сети меньше, чем в направленной?)))"
   ]
  },
  {
   "cell_type": "code",
   "execution_count": null,
   "metadata": {},
   "outputs": [],
   "source": [
    "print(nx.is_connected(H))\n",
    "print(len(max(nx.connected_components(H), key=len)))"
   ]
  },
  {
   "cell_type": "markdown",
   "metadata": {},
   "source": [
    "# Задание\n",
    "\n",
    "1) Исследуйте топологические свойства сети ассоциаций. Помните, что сеть направленная и ряд свойств отличается от анологичных, определенных на ненаправленной сети. \n",
    "\n",
    "2) Помимо того что сеть ассоциаций направленна, она еще является взвешенной,т.е. каждое ребро имеет вес. Постройте распределение значений веса ребер. Проанализируйте как изменится топология сети, если убирать ребра малого веса. Для этого можно ввести порог $w_0$ и удалять все связи с весом $w_{i,j}<w_0$. Постройте зависимости топологических характеристик от значения $w_0$. \n",
    "\n",
    "3) Исследуйте топологические свойства вершин, входящих в RAT, на сети. Есть ли корреляция между сложностью RAT/временем решения RAT и топологическими свойствами вершин? Придумайте, какие топологические характеристики могут отражать сложность теста. Как можно учесть направленность и взвешенность сети ассоциаций? \n",
    "\n",
    "4) Оформите результаты анализа в виде небольшой презентации (3-4 слайда).\n",
    "\n"
   ]
  },
  {
   "cell_type": "code",
   "execution_count": null,
   "metadata": {},
   "outputs": [],
   "source": []
  }
 ],
 "metadata": {
  "kernelspec": {
   "display_name": "Python 3",
   "language": "python",
   "name": "python3"
  },
  "language_info": {
   "codemirror_mode": {
    "name": "ipython",
    "version": 3
   },
   "file_extension": ".py",
   "mimetype": "text/x-python",
   "name": "python",
   "nbconvert_exporter": "python",
   "pygments_lexer": "ipython3",
   "version": "3.8.5"
  }
 },
 "nbformat": 4,
 "nbformat_minor": 2
}
